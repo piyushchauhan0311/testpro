{
 "cells": [
  {
   "cell_type": "code",
   "execution_count": 1,
   "metadata": {},
   "outputs": [],
   "source": [
    "#Below code is for fetching the email ids of those customers who have not returned their tools on their respective return dates."
   ]
  },
  {
   "cell_type": "code",
   "execution_count": 4,
   "metadata": {},
   "outputs": [],
   "source": [
    "import numpy as np\n",
    "import pandas as pd"
   ]
  },
  {
   "cell_type": "code",
   "execution_count": 5,
   "metadata": {},
   "outputs": [],
   "source": [
    "df=pd.read_excel('dummy.xlsx')"
   ]
  },
  {
   "cell_type": "code",
   "execution_count": 6,
   "metadata": {},
   "outputs": [],
   "source": [
    "from datetime import date\n",
    "today = date.today()"
   ]
  },
  {
   "cell_type": "code",
   "execution_count": 7,
   "metadata": {},
   "outputs": [
    {
     "name": "stderr",
     "output_type": "stream",
     "text": [
      "C:\\Users\\piyush\\Anaconda3\\lib\\site-packages\\ipykernel_launcher.py:1: FutureWarning: Comparing Series of datetimes with 'datetime.date'.  Currently, the\n",
      "'datetime.date' is coerced to a datetime. In the future pandas will\n",
      "not coerce, and a TypeError will be raised. To retain the current\n",
      "behavior, convert the 'datetime.date' to a datetime with\n",
      "'pd.Timestamp'.\n",
      "  \"\"\"Entry point for launching an IPython kernel.\n"
     ]
    },
    {
     "data": {
      "text/plain": [
       "['piyushchauhan0311@gmail.com',\n",
       " 'nishantkapoor987@outlook.com',\n",
       " 'nishantkapoor1234@outlook.com',\n",
       " 'rahul@gmail.com']"
      ]
     },
     "execution_count": 7,
     "metadata": {},
     "output_type": "execute_result"
    }
   ],
   "source": [
    "to=list(df[df['Date']<today]['Email'])\n",
    "to"
   ]
  },
  {
   "cell_type": "code",
   "execution_count": 6,
   "metadata": {},
   "outputs": [],
   "source": [
    "#Below code is for sending mails as a reminder."
   ]
  },
  {
   "cell_type": "code",
   "execution_count": 7,
   "metadata": {},
   "outputs": [],
   "source": [
    "# Python code to illustrate Sending mail  \n",
    "# to multiple users  \n",
    "# from your Gmail account  \n",
    "import smtplib \n",
    "  \n",
    "for i in range(len(to)): \n",
    "    s = smtplib.SMTP('smtp-mail.outlook.com', 587) \n",
    "    s.starttls() \n",
    "    s.login(\"piyushchauhan0311@outlook.com\", \"piyush@03\") \n",
    "    message = \"\"\"\n",
    "Subject: Remainder regarding the return of machines.\n",
    "\n",
    "This is a test e-mail message.\n",
    "\"\"\" \n",
    "    #message = \"Message_you_need_to_send\"\n",
    "    s.sendmail(\"piyushchauhan0311@outlook.com\", to[i], message) \n",
    "    s.quit() "
   ]
  },
  {
   "cell_type": "code",
   "execution_count": 8,
   "metadata": {},
   "outputs": [],
   "source": [
    "#Below code is for fetching the comment by customer."
   ]
  },
  {
   "cell_type": "code",
   "execution_count": 1,
   "metadata": {},
   "outputs": [
    {
     "data": {
      "text/plain": [
       "('OK', [b'18'])"
      ]
     },
     "execution_count": 1,
     "metadata": {},
     "output_type": "execute_result"
    }
   ],
   "source": [
    "import imaplib\n",
    "import email\n",
    "\n",
    "# Connect to imap server\n",
    "username = 'piyushchauhan0311@outlook.com'\n",
    "password = 'piyush@03'\n",
    "mail = imaplib.IMAP4_SSL('outlook.office365.com')\n",
    "mail.login(username, password)\n",
    "\n",
    "# retrieve a list of the mailboxes and select one\n",
    "result, mailboxes = mail.list()\n",
    "mail.select(\"inbox\")\n"
   ]
  },
  {
   "cell_type": "code",
   "execution_count": 2,
   "metadata": {},
   "outputs": [],
   "source": [
    "import openpyxl\n",
    "import numpy as np\n",
    "from xlwings import Book, Range"
   ]
  },
  {
   "cell_type": "code",
   "execution_count": 6,
   "metadata": {},
   "outputs": [
    {
     "ename": "IndentationError",
     "evalue": "unexpected indent (<ipython-input-6-6fd5a20c5465>, line 3)",
     "output_type": "error",
     "traceback": [
      "\u001b[1;36m  File \u001b[1;32m\"<ipython-input-6-6fd5a20c5465>\"\u001b[1;36m, line \u001b[1;32m3\u001b[0m\n\u001b[1;33m    for j in range(len(to)):\u001b[0m\n\u001b[1;37m    ^\u001b[0m\n\u001b[1;31mIndentationError\u001b[0m\u001b[1;31m:\u001b[0m unexpected indent\n"
     ]
    }
   ],
   "source": [
    "#def check():\n",
    "    #wb = Book.caller()\n",
    "    for j in range(len(to)):\n",
    "        type, data = mail.search(None, 'FROM', to[j])\n",
    "        mail_ids = data[0]\n",
    "        id_list = mail_ids.split()\n",
    "        for num in data[0].split():\n",
    "            typ, data = mail.fetch(num, '(RFC822)' )\n",
    "            raw_email = data[0][1]\n",
    "            # converts byte literal to string removing b''\n",
    "            raw_email_string = raw_email.decode('utf-8')\n",
    "            email_message = email.message_from_string(raw_email_string)\n",
    "        if(len(data)>1):\n",
    "            for response_part in data:\n",
    "                if isinstance(response_part, tuple):\n",
    "                    msg = email.message_from_string(response_part[1].decode('utf-8'))\n",
    "                    email_subject = msg['subject']\n",
    "                    email_from = msg['from']\n",
    "                    print ('From : ' + email_from + '\\n')\n",
    "                    print ('Subject : ' + email_subject + '\\n')\n",
    "                    while msg.is_multipart():\n",
    "                        msg = msg.get_payload(0)\n",
    "                        content = msg.get_payload(decode=True)\n",
    "                    print(content)\n",
    "                    wbkName = 'dummy.xlsm'\n",
    "                    wbk = openpyxl.load_workbook(wbkName)\n",
    "                    for wks in wbk.worksheets:\n",
    "                        for myRow in range(1, 100):\n",
    "                            if(wks.cell(row=myRow, column=6).value == to[j]):\n",
    "                                wks.cell(row=myRow, column=7).value = content\n",
    "                                wbk.save(wbkName)\n",
    "    wbk.close\n"
   ]
  },
  {
   "cell_type": "code",
   "execution_count": 10,
   "metadata": {},
   "outputs": [
    {
     "name": "stdout",
     "output_type": "stream",
     "text": [
      "From : piyush chauhan <piyushchauhan0311@gmail.com>\n",
      "\n",
      "Subject : Hello.\n",
      "\n",
      "b'This is important.\\r\\n'\n",
      "From : Nishant Kapoor <nishantkapoor987@outlook.com>\n",
      "\n",
      "Subject : bros before hoes\n",
      "\n",
      "b'Chauhan\\r\\n'\n",
      "From : nishant kapoor <nishantkapoor1234@outlook.com>\n",
      "\n",
      "Subject : hoi\n",
      "\n",
      "b'jgjhg jhb\\r\\n'\n"
     ]
    },
    {
     "data": {
      "text/plain": [
       "<bound method Workbook.close of <openpyxl.workbook.workbook.Workbook object at 0x000002780E082080>>"
      ]
     },
     "execution_count": 10,
     "metadata": {},
     "output_type": "execute_result"
    }
   ],
   "source": [
    "for j in range(len(to)):\n",
    "    type, data = mail.search(None, 'FROM', to[j])\n",
    "    mail_ids = data[0]\n",
    "    id_list = mail_ids.split()\n",
    "    for num in data[0].split():\n",
    "        typ, data = mail.fetch(num, '(RFC822)' )\n",
    "        raw_email = data[0][1]\n",
    "        # converts byte literal to string removing b''\n",
    "        raw_email_string = raw_email.decode('utf-8')\n",
    "        email_message = email.message_from_string(raw_email_string)\n",
    "    if(len(data)>1):\n",
    "        for response_part in data:\n",
    "            if isinstance(response_part, tuple):\n",
    "                msg = email.message_from_string(response_part[1].decode('utf-8'))\n",
    "                email_subject = msg['subject']\n",
    "                email_from = msg['from']\n",
    "                print ('From : ' + email_from + '\\n')\n",
    "                print ('Subject : ' + email_subject + '\\n')\n",
    "                while msg.is_multipart():\n",
    "                    msg = msg.get_payload(0)\n",
    "                    content = msg.get_payload(decode=True)\n",
    "                print(content)\n",
    "                wbkName = 'dummy.xlsx'\n",
    "                wbk = openpyxl.load_workbook(wbkName)\n",
    "                for wks in wbk.worksheets:\n",
    "                    for myRow in range(1, 100):\n",
    "                        if(wks.cell(row=myRow, column=6).value == to[j]):\n",
    "                            wks.cell(row=myRow, column=7).value = content\n",
    "                            wbk.save(wbkName)\n",
    "wbk.close"
   ]
  },
  {
   "cell_type": "code",
   "execution_count": 10,
   "metadata": {},
   "outputs": [
    {
     "name": "stdout",
     "output_type": "stream",
     "text": [
      "b'jgjhg jhb\\r\\n'\n"
     ]
    }
   ],
   "source": [
    "print(content)"
   ]
  },
  {
   "cell_type": "code",
   "execution_count": 11,
   "metadata": {},
   "outputs": [],
   "source": [
    "p=content.decode()"
   ]
  },
  {
   "cell_type": "code",
   "execution_count": 12,
   "metadata": {},
   "outputs": [
    {
     "data": {
      "text/plain": [
       "'jgjhg jhb\\r\\n'"
      ]
     },
     "execution_count": 12,
     "metadata": {},
     "output_type": "execute_result"
    }
   ],
   "source": [
    "p"
   ]
  },
  {
   "cell_type": "code",
   "execution_count": 13,
   "metadata": {},
   "outputs": [
    {
     "ename": "TypeError",
     "evalue": "'str' object is not callable",
     "output_type": "error",
     "traceback": [
      "\u001b[1;31m---------------------------------------------------------------------------\u001b[0m",
      "\u001b[1;31mTypeError\u001b[0m                                 Traceback (most recent call last)",
      "\u001b[1;32m<ipython-input-13-7123e0605d4f>\u001b[0m in \u001b[0;36m<module>\u001b[1;34m\u001b[0m\n\u001b[1;32m----> 1\u001b[1;33m \u001b[0mtype\u001b[0m\u001b[1;33m(\u001b[0m\u001b[0mp\u001b[0m\u001b[1;33m)\u001b[0m\u001b[1;33m\u001b[0m\u001b[1;33m\u001b[0m\u001b[0m\n\u001b[0m",
      "\u001b[1;31mTypeError\u001b[0m: 'str' object is not callable"
     ]
    }
   ],
   "source": []
  },
  {
   "cell_type": "code",
   "execution_count": null,
   "metadata": {},
   "outputs": [],
   "source": []
  }
 ],
 "metadata": {
  "kernelspec": {
   "display_name": "Python 3",
   "language": "python",
   "name": "python3"
  },
  "language_info": {
   "codemirror_mode": {
    "name": "ipython",
    "version": 3
   },
   "file_extension": ".py",
   "mimetype": "text/x-python",
   "name": "python",
   "nbconvert_exporter": "python",
   "pygments_lexer": "ipython3",
   "version": "3.7.1"
  }
 },
 "nbformat": 4,
 "nbformat_minor": 2
}
